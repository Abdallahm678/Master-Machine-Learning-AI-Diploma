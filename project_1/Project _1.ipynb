{
 "cells": [
  {
   "cell_type": "markdown",
   "id": "running-example",
   "metadata": {},
   "source": [
    "# Project 2\n",
    "\n",
    "## By using what we've learned about oop create a banking system program \n",
    "\n",
    "\n",
    "### Parent class : holds user account info and show the user details \n",
    "\n",
    "\n",
    "### Child class : about bank and holds the balance and can  can make deposits , withdraw and show the final balance  functions  .....\n"
   ]
  },
  {
   "cell_type": "code",
   "execution_count": 9,
   "id": "correct-breach",
   "metadata": {},
   "outputs": [
    {
     "name": "stdout",
     "output_type": "stream",
     "text": [
      "User information\n",
      "----------------\n",
      " \n",
      "Name : Ahmed\n",
      "Account ID : 254876\n",
      "Current Balance : 5000\n",
      "Your Balance Has Been Updated Succefully\n",
      "Your Current Balance is : 4500\n",
      "Your Balance Has Been Updated Succefully\n",
      "Your Current Balance is : 6500\n",
      "No Enough Balance |Balance Available 6500\n"
     ]
    }
   ],
   "source": [
    "#parent class : User \n",
    "#holds user account info and show users details\n",
    "class User():\n",
    "    #class attribute that hold # of users\n",
    "    users_counter = 0\n",
    "    \n",
    "    #intializing instance constructors\n",
    "    def __init__(self,user_name,acc_ID):\n",
    "        User.users_counter +=1 \n",
    "        self.user_name = user_name\n",
    "        self.acc_ID = acc_ID\n",
    "        self.balance=0\n",
    "    \n",
    "    #Method to show user details\n",
    "    def user_info(self):\n",
    "        print (\"User information\\n----------------\\n \")\n",
    "        print(\"Name :\",self.user_name)\n",
    "        print(\"Account ID :\",self.acc_ID)\n",
    "        print(\"Current Balance :\",self.balance)\n",
    "        \n",
    "\n",
    "#****************************************************************       \n",
    "\n",
    "# child class :Bank\n",
    "class Bank(User):\n",
    "    \n",
    "    #this method carry out deposit operation and return current balance       \n",
    "    def deposit (self,credit):\n",
    "        self.credit = credit\n",
    "        self.balance += self.credit  #adding the amount to the current balance\n",
    "        print(\"Your Balance Has Been Updated Succefully\")\n",
    "        print (\"Your Current Balance is :\",self.balance)\n",
    "    \n",
    "   \n",
    "    #this method carry out withdraw operation and return current balance\n",
    "    def withdraw (self,credit):\n",
    "        self.credit = credit\n",
    "        #cheking if the user have enough balance \n",
    "        if (self.credit> self.balance):\n",
    "            print(\"No Enough Balance |Balance Available\",self.balance)\n",
    "        else:\n",
    "            self.balance -= self.credit  #subtracting the credit from the current balance\n",
    "            print(\"Your Balance Has Been Updated Succefully\")\n",
    "            print (\"Your Current Balance is :\",self.balance)\n",
    "    \n",
    "    \n",
    "\n",
    "ahmed = Bank(\"Ahmed\",254876)\n",
    "ahmed.balance=5000\n",
    "ahmed.user_info()\n",
    "ahmed.withdraw(500)\n",
    "ahmed.deposit(2000)\n",
    "ahmed.withdraw(7000)\n",
    "\n"
   ]
  }
 ],
 "metadata": {
  "kernelspec": {
   "display_name": "Python 3 (ipykernel)",
   "language": "python",
   "name": "python3"
  },
  "language_info": {
   "codemirror_mode": {
    "name": "ipython",
    "version": 3
   },
   "file_extension": ".py",
   "mimetype": "text/x-python",
   "name": "python",
   "nbconvert_exporter": "python",
   "pygments_lexer": "ipython3",
   "version": "3.9.7"
  }
 },
 "nbformat": 4,
 "nbformat_minor": 5
}
