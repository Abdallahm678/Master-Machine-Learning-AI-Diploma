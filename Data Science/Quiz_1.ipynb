{
 "cells": [
  {
   "cell_type": "code",
   "execution_count": 3,
   "id": "e84cc0ca",
   "metadata": {},
   "outputs": [
    {
     "name": "stdout",
     "output_type": "stream",
     "text": [
      "[['a' '23']\n",
      " ['b' '24']\n",
      " ['c' '25']\n",
      " ['d' '26']\n",
      " ['e' '27']\n",
      " ['f' '28']]\n"
     ]
    }
   ],
   "source": [
    "import numpy as np #importing numpy library\n",
    "\n",
    "#defining a function that takes data and percent of the train set\n",
    "def train_test_split(data , train_precent):\n",
    "    #calculating split ratio\n",
    "    split = int((train_precent * len(data))/100) \n",
    "    \n",
    "    #splitting the data set into train set and test set\n",
    "    train , test = data[ :split , : ] , data [split: , : ]\n",
    "    \n",
    "    # spliting each of train and test into input & output\n",
    "    x_train , y_train = train[ : , :-1] , train[: , -1]\n",
    "    x_test , y_test = test[ : , :-1] , test[ : , -1]\n",
    "    \n",
    "    return x_train,y_train,x_test,y_test\n",
    "    \n",
    "\n",
    "data = np.array([['a',23,1],\n",
    "                ['b',24,1],\n",
    "                ['c',25,0],\n",
    "                ['d',26,0],\n",
    "                ['e',27,1],\n",
    "                ['f',28,0],\n",
    "                ['g',29,1],\n",
    "                ['h',30,1],\n",
    "                ['i',31,0],\n",
    "                ['j',32,1]])\n",
    "\n",
    "input_train , output_train , input_test , output_test = train_test_split(data,60)\n",
    "print(input_train)"
   ]
  }
 ],
 "metadata": {
  "kernelspec": {
   "display_name": "Python 3 (ipykernel)",
   "language": "python",
   "name": "python3"
  },
  "language_info": {
   "codemirror_mode": {
    "name": "ipython",
    "version": 3
   },
   "file_extension": ".py",
   "mimetype": "text/x-python",
   "name": "python",
   "nbconvert_exporter": "python",
   "pygments_lexer": "ipython3",
   "version": "3.9.7"
  }
 },
 "nbformat": 4,
 "nbformat_minor": 5
}
