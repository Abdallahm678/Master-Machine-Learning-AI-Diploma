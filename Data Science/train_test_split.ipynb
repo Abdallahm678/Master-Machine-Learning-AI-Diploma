{
 "cells": [
  {
   "cell_type": "markdown",
   "id": "5576636b",
   "metadata": {},
   "source": [
    "# Write a function that takes data and percent of the train set. Splits the\n",
    "# data into train and test sets based on the passed percent. Splits both\n",
    "# train and test into input and output data."
   ]
  },
  {
   "cell_type": "code",
   "execution_count": 1,
   "id": "cea5cd59",
   "metadata": {},
   "outputs": [],
   "source": [
    "import numpy as np #importing numpy library\n",
    "\n",
    "#defining a function that takes data and percent of the train set\n",
    "def train_test_split(data , train_precent):\n",
    "    #calculating split ratio\n",
    "    split = int((train_precent * len(data))/100) \n",
    "    \n",
    "    #splitting the data set into train set and test set\n",
    "    train , test = data[ :split , : ] , data [split: , : ]\n",
    "    \n",
    "    # spliting each of train and test into input & output\n",
    "    x_train , y_train = train[ : , :-1] , train[: , -1]\n",
    "    x_test , y_test = test[ : , :-1] , test[ : , -1]\n",
    "    \n",
    "    return x_train,y_train,x_test,y_test"
   ]
  }
 ],
 "metadata": {
  "kernelspec": {
   "display_name": "Python 3 (ipykernel)",
   "language": "python",
   "name": "python3"
  },
  "language_info": {
   "codemirror_mode": {
    "name": "ipython",
    "version": 3
   },
   "file_extension": ".py",
   "mimetype": "text/x-python",
   "name": "python",
   "nbconvert_exporter": "python",
   "pygments_lexer": "ipython3",
   "version": "3.9.7"
  }
 },
 "nbformat": 4,
 "nbformat_minor": 5
}
